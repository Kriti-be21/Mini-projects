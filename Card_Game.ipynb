{
  "nbformat": 4,
  "nbformat_minor": 0,
  "metadata": {
    "colab": {
      "name": "Card Game.ipynb",
      "provenance": [],
      "authorship_tag": "ABX9TyNj4SZ6Ru5dAsYxt1fWKBhn",
      "include_colab_link": true
    },
    "kernelspec": {
      "name": "python3",
      "display_name": "Python 3"
    },
    "language_info": {
      "name": "python"
    }
  },
  "cells": [
    {
      "cell_type": "markdown",
      "metadata": {
        "id": "view-in-github",
        "colab_type": "text"
      },
      "source": [
        "<a href=\"https://colab.research.google.com/github/Kriti-be21/Mini-projects/blob/main/Card_Game.ipynb\" target=\"_parent\"><img src=\"https://colab.research.google.com/assets/colab-badge.svg\" alt=\"Open In Colab\"/></a>"
      ]
    },
    {
      "cell_type": "markdown",
      "source": [
        "***CARD GAME***\n",
        "In this card game, each player draws a card from the deck and the player with the highest card wins."
      ],
      "metadata": {
        "id": "ZCo98YTsMS-7"
      }
    },
    {
      "cell_type": "code",
      "execution_count": 1,
      "metadata": {
        "id": "0NdemvI3LIV4"
      },
      "outputs": [],
      "source": [
        "class Card:\n",
        "    suits = [\"spades\",\n",
        "             \"hearts\",\n",
        "             \"diamonds\",\n",
        "             \"clubs\"]\n",
        "    \n",
        "    values = [None, None,\"2\", \"3\",\n",
        "              \"4\", \"5\", \"6\", \"7\",\n",
        "              \"8\", \"9\", \"10\",\n",
        "              \"Jack\", \"Queen\",\n",
        "              \"King\", \"Ace\"]\n",
        "\n",
        "    def __init__(self, v, s):\n",
        "        \"\"\"suit + value are ints\"\"\"\n",
        "        self.value = v\n",
        "        self.suit = s\n",
        "\n",
        "    def __lt__(self, c2):\n",
        "        if self.value < c2.value:\n",
        "            return True\n",
        "        if self.value == c2.value:\n",
        "            if self.suit < c2.suit:\n",
        "                return True\n",
        "            else:\n",
        "                return False\n",
        "        return False\n",
        "\n",
        "    def __gt__(self, c2):\n",
        "        if self.value > c2.value:\n",
        "            return True\n",
        "        if self.value == c2.value:\n",
        "            if self.suit > c2.suit:\n",
        "                return True\n",
        "            else:\n",
        "                return False\n",
        "        return False\n",
        "\n",
        "    def __repr__(self):\n",
        "        v = self.values[self.value] +\\\n",
        "            \" of \" + \\\n",
        "            self.suits[self.suit]\n",
        "        return v"
      ]
    },
    {
      "cell_type": "code",
      "source": [
        "from random import shuffle\n",
        "\n",
        "\n",
        "class Deck:\n",
        "    def __init__(self):\n",
        "        self.cards = []\n",
        "        for i in range(2, 15):\n",
        "            for j in range(4):\n",
        "                self.cards\\\n",
        "                    .append(Card(i,\n",
        "                                 j))\n",
        "        shuffle(self.cards)\n",
        "\n",
        "    def rm_card(self):\n",
        "        if len(self.cards) == 0:\n",
        "            return\n",
        "        return self.cards.pop()"
      ],
      "metadata": {
        "id": "MxbaqYi2LJs9"
      },
      "execution_count": 2,
      "outputs": []
    },
    {
      "cell_type": "code",
      "source": [
        "class Player:\n",
        "   def __init__(self, name):\n",
        "       self.wins = 0\n",
        "       self.card = None\n",
        "       self.name = name"
      ],
      "metadata": {
        "id": "fvegfvg4LQL-"
      },
      "execution_count": 3,
      "outputs": []
    },
    {
      "cell_type": "code",
      "source": [
        "class Game:\n",
        "    def __init__(self):\n",
        "        name1 = input(\"p1 name \")\n",
        "        name2 = input(\"p2 name \")\n",
        "        self.deck = Deck()\n",
        "        self.p1 = Player(name1)\n",
        "        self.p2 = Player(name2)\n",
        "\n",
        "    def wins(self, winner):\n",
        "        w = \"{} wins this round\"\n",
        "        w = w.format(winner)\n",
        "        print(w)\n",
        "\n",
        "    def draw(self, p1n, p1c, p2n, p2c):\n",
        "        d = \"{} drew {} {} drew {}\"\n",
        "        d = d.format(p1n,\n",
        "                     p1c,\n",
        "                     p2n,\n",
        "                     p2c)\n",
        "        print(d)\n",
        "\n",
        "    def play_game(self):\n",
        "        cards = self.deck.cards\n",
        "        print(\"beginning War!\")\n",
        "        while len(cards) >= 2:\n",
        "            m = \"q to quit. Any \" + \\\n",
        "                \"key to play:\"\n",
        "            response = input(m)\n",
        "            if response == 'q':\n",
        "                break\n",
        "            p1c = self.deck.rm_card()\n",
        "            p2c = self.deck.rm_card()\n",
        "            p1n = self.p1.name\n",
        "            p2n = self.p2.name\n",
        "            self.draw(p1n,\n",
        "                      p1c,\n",
        "                      p2n,\n",
        "                      p2c)\n",
        "            if p1c > p2c:\n",
        "                self.p1.wins += 1\n",
        "                self.wins(self.p1.name)\n",
        "            else:\n",
        "                self.p2.wins += 1\n",
        "                self.wins(self.p2.name)\n",
        "\n",
        "        win = self.winner(self.p1,\n",
        "                         self.p2)\n",
        "        print(\"War is over.{} wins\"\n",
        "              .format(win))\n",
        "\n",
        "    def winner(self, p1, p2):\n",
        "        if p1.wins > p2.wins:\n",
        "            return p1.name\n",
        "        if p1.wins < p2.wins:\n",
        "            return p2.name\n",
        "        return \"It was a tie!\""
      ],
      "metadata": {
        "id": "_0eFscaDLWEo"
      },
      "execution_count": 4,
      "outputs": []
    },
    {
      "cell_type": "code",
      "source": [
        "game = Game()\n",
        "game.play_game()"
      ],
      "metadata": {
        "colab": {
          "base_uri": "https://localhost:8080/"
        },
        "id": "VMyVgfT0LyDm",
        "outputId": "3b0441c0-359a-41cb-bf4c-94161110c0ed"
      },
      "execution_count": 5,
      "outputs": [
        {
          "output_type": "stream",
          "name": "stdout",
          "text": [
            "p1 name kriti\n",
            "p2 name kshitij\n",
            "beginning War!\n",
            "q to quit. Any key to play:j\n",
            "kriti drew Jack of diamonds kshitij drew Ace of spades\n",
            "kshitij wins this round\n",
            "q to quit. Any key to play:k\n",
            "kriti drew King of diamonds kshitij drew Ace of diamonds\n",
            "kshitij wins this round\n",
            "q to quit. Any key to play:n\n",
            "kriti drew 6 of hearts kshitij drew 7 of spades\n",
            "kshitij wins this round\n",
            "q to quit. Any key to play:m\n",
            "kriti drew Jack of hearts kshitij drew 6 of clubs\n",
            "kriti wins this round\n",
            "q to quit. Any key to play:q\n",
            "War is over.kshitij wins\n"
          ]
        }
      ]
    },
    {
      "cell_type": "markdown",
      "source": [
        ""
      ],
      "metadata": {
        "id": "mTURJ1wkMPtr"
      }
    }
  ]
}
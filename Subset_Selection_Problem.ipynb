{
  "nbformat": 4,
  "nbformat_minor": 0,
  "metadata": {
    "colab": {
      "name": " Subset Selection Problem.ipynb",
      "provenance": [],
      "collapsed_sections": [],
      "include_colab_link": true
    },
    "kernelspec": {
      "display_name": "Python 3",
      "language": "python",
      "name": "python3"
    },
    "language_info": {
      "codemirror_mode": {
        "name": "ipython",
        "version": 3
      },
      "file_extension": ".py",
      "mimetype": "text/x-python",
      "name": "python",
      "nbconvert_exporter": "python",
      "pygments_lexer": "ipython3",
      "version": "3.8.5"
    }
  },
  "cells": [
    {
      "cell_type": "markdown",
      "metadata": {
        "id": "view-in-github",
        "colab_type": "text"
      },
      "source": [
        "<a href=\"https://colab.research.google.com/github/Kriti-be21/Mini-projects/blob/main/Subset_Selection_Problem.ipynb\" target=\"_parent\"><img src=\"https://colab.research.google.com/assets/colab-badge.svg\" alt=\"Open In Colab\"/></a>"
      ]
    },
    {
      "cell_type": "markdown",
      "metadata": {
        "id": "7nQSRI4Dim1Y"
      },
      "source": [
        "  ---\n",
        "# **Subset Selection Problem**\n",
        "---\n",
        "####**1. Problem Statement:**\n",
        "Find all the subsets from a set of numbers whose sum is zero.\n",
        "\n",
        "####**Constraint: Subset size must be 5**\n",
        "Set={-12, -3, -6, 7, 2, -2, 6, 3, 9, -7, -5, -8, 1, 11, -9, -4}\n",
        "\n",
        "---"
      ]
    },
    {
      "cell_type": "markdown",
      "metadata": {
        "id": "A30y-VtNim1h"
      },
      "source": [
        "### **1.1 Library inclusion**"
      ]
    },
    {
      "cell_type": "code",
      "metadata": {
        "id": "cF_mSA9Xim1j"
      },
      "source": [
        "import random as r"
      ],
      "execution_count": 1,
      "outputs": []
    },
    {
      "cell_type": "markdown",
      "metadata": {
        "id": "UjvBYy0Lim1m"
      },
      "source": [
        "### **1.2 Parameter Setting**"
      ]
    },
    {
      "cell_type": "code",
      "metadata": {
        "id": "NHB2KMhZim1o"
      },
      "source": [
        "Set         = set([-12, -3, -6, 7, 2, -2, 6, 3, 9, -7, -5, -8, 1, 11, -9, -4])\n",
        "SetSize     = 5\n",
        "ResultList  = set()    # Store Result List i.e. list of sets whose sum is zero\n",
        "Iterations  = 1000    # Number of Inerations"
      ],
      "execution_count": 2,
      "outputs": []
    },
    {
      "cell_type": "markdown",
      "metadata": {
        "id": "BTLd3s--im1c"
      },
      "source": [
        "### **1.3 Start Program**\n",
        "\n",
        "\n"
      ]
    },
    {
      "cell_type": "code",
      "metadata": {
        "id": "veBU-f21im1x"
      },
      "source": [
        "# Loop till number of Iterations\n",
        "for i in range(Iterations):\n",
        "    # Select number of elements from Set\n",
        "    Chromosome = r.sample(Set,SetSize)\n",
        "    \n",
        "    # Sum the number of elements in the Chromosome\n",
        "    if sum(Chromosome) == 0:\n",
        "        ResultList.add(tuple(Chromosome))"
      ],
      "execution_count": 3,
      "outputs": []
    },
    {
      "cell_type": "markdown",
      "metadata": {
        "id": "nRWYsJNVim1z"
      },
      "source": [
        "### **1.4 Print the sets and total count**\n"
      ]
    },
    {
      "cell_type": "code",
      "metadata": {
        "colab": {
          "base_uri": "https://localhost:8080/"
        },
        "id": "41abL1k-im10",
        "scrolled": true,
        "outputId": "53c6f436-4ca2-4081-928a-ca60b3376b21"
      },
      "source": [
        "# Print all the sets whose sum is zero\n",
        "for r in ResultList:\n",
        "\tprint (r)\n",
        "\n",
        "# Print total sets\n",
        "print (\"\\nTotal Sets: \", len(ResultList), \"\\n\")"
      ],
      "execution_count": 4,
      "outputs": [
        {
          "output_type": "stream",
          "name": "stdout",
          "text": [
            "(11, 1, -7, -3, -2)\n",
            "(3, 1, -6, 7, -5)\n",
            "(1, -12, 3, 6, 2)\n",
            "(-6, -5, 11, -7, 7)\n",
            "(11, 1, 9, -12, -9)\n",
            "(6, -8, 3, 2, -3)\n",
            "(-2, -3, 1, 11, -7)\n",
            "(-6, -2, 9, 2, -3)\n",
            "(-5, -2, -8, 6, 9)\n",
            "(2, -5, -12, 6, 9)\n",
            "(1, -5, 11, -9, 2)\n",
            "(11, -7, -6, -5, 7)\n",
            "(3, -4, 6, 1, -6)\n",
            "(-3, 6, 11, -5, -9)\n",
            "(-9, -2, 1, 7, 3)\n",
            "(-12, 11, -4, 7, -2)\n",
            "(-5, 11, -9, 7, -4)\n",
            "(-7, 11, 2, 3, -9)\n",
            "(-9, 6, -4, -2, 9)\n",
            "(1, -2, -4, 2, 3)\n",
            "(-12, 9, 6, 2, -5)\n",
            "(7, -9, 1, -2, 3)\n",
            "(7, -3, -8, -2, 6)\n",
            "(-5, 2, 7, 3, -7)\n",
            "(7, -3, -4, -6, 6)\n",
            "(-4, 3, -3, -5, 9)\n",
            "(-9, 9, -3, 1, 2)\n",
            "(-2, -7, -9, 7, 11)\n",
            "(-3, -4, -8, 6, 9)\n",
            "(9, -6, -5, -9, 11)\n",
            "(-4, 1, 2, 3, -2)\n",
            "(-2, 3, -3, 7, -5)\n",
            "(9, -12, -6, 3, 6)\n",
            "(-12, 11, 2, -4, 3)\n",
            "(-5, -6, 9, -9, 11)\n",
            "\n",
            "Total Sets:  35 \n",
            "\n"
          ]
        }
      ]
    },
    {
      "cell_type": "markdown",
      "metadata": {
        "id": "E3BNV7YLim12"
      },
      "source": [
        "---\n",
        "### **1.5 Complete Program**\n",
        "---"
      ]
    },
    {
      "cell_type": "code",
      "metadata": {
        "colab": {
          "base_uri": "https://localhost:8080/"
        },
        "id": "c6KthRB9im14",
        "outputId": "14aec85e-24c6-477d-ad92-a931ffbd9fd3"
      },
      "source": [
        "#-------------------------------------------------------------\n",
        "# Step 1: Library inclusion                             \n",
        "#-------------------------------------------------------------\n",
        "import random as r\n",
        "\n",
        "\n",
        "#-------------------------------------------------------------\n",
        "# Step 2: Parameter Setting\n",
        "#-------------------------------------------------------------\n",
        "Set         = set([-12, -3, -6, 7, 2, -2, 6, 3, 9, -7, -5, -8, 1, 11, -9, -4])\n",
        "SetSize     = 5\n",
        "ResultList  = set()    # Store Result List i.e. list of sets whose sum is zero\n",
        "Iterations  = 1000   # Number of Inerations\n",
        "\n",
        "\n",
        "#-------------------------------------------------------------\n",
        "# Step3: Start Program\n",
        "#-------------------------------------------------------------\n",
        "\n",
        "# Loop till number of Iterations\n",
        "for i in range(Iterations):\n",
        "    # Select number of elements from Set\n",
        "    Chromosome = r.sample(Set,SetSize)\n",
        "\n",
        "    # Sum the number of elements in the Chromosome\n",
        "    if sum(Chromosome) == 0:\n",
        "        ResultList.add(tuple(Chromosome))\n",
        "\n",
        "# Print all the sets whose sum is zero\n",
        "for r in ResultList:\n",
        "\tprint (r)\n",
        "\n",
        "# Print total sets\n",
        "print (\"\\nTotal Sets: \", len(ResultList))\n"
      ],
      "execution_count": 5,
      "outputs": [
        {
          "output_type": "stream",
          "name": "stdout",
          "text": [
            "(-9, 11, 2, -7, 3)\n",
            "(-3, 6, 1, 2, -6)\n",
            "(-5, -3, -4, 3, 9)\n",
            "(1, 6, -12, -4, 9)\n",
            "(6, 2, -12, 1, 3)\n",
            "(-7, -8, 11, -5, 9)\n",
            "(6, -4, 3, 2, -7)\n",
            "(7, -8, 2, 11, -12)\n",
            "(11, -7, 9, -8, -5)\n",
            "(1, 7, -7, -12, 11)\n",
            "(2, -7, 3, -5, 7)\n",
            "(2, -2, -4, 9, -5)\n",
            "(-9, 2, -6, 6, 7)\n",
            "(-8, 3, 11, -12, 6)\n",
            "(2, -4, -2, -3, 7)\n",
            "(-12, 7, 6, -2, 1)\n",
            "(6, 7, -4, 3, -12)\n",
            "(-9, -3, 7, 3, 2)\n",
            "(11, -2, -6, -4, 1)\n",
            "(-2, 1, -9, 3, 7)\n",
            "(3, -8, 1, 6, -2)\n",
            "(-2, 6, 11, -6, -9)\n",
            "\n",
            "Total Sets:  22\n"
          ]
        }
      ]
    },
    {
      "cell_type": "markdown",
      "metadata": {
        "id": "stxrIcZtk4LT"
      },
      "source": [
        "---\n",
        "### **1.6 Complete Program with sorting**\n",
        "---"
      ]
    },
    {
      "cell_type": "code",
      "metadata": {
        "colab": {
          "base_uri": "https://localhost:8080/"
        },
        "outputId": "478f1975-26d3-4c04-d0c1-1870f78aa832",
        "id": "zzblepy0k4LU"
      },
      "source": [
        "#-------------------------------------------------------------\n",
        "# Step 1: Library inclusion                             \n",
        "#-------------------------------------------------------------\n",
        "import random as r\n",
        "\n",
        "\n",
        "#-------------------------------------------------------------\n",
        "# Step 2: Parameter Setting\n",
        "#-------------------------------------------------------------\n",
        "Set         = set([-12, -3, -6, 7, 2, -2, 6, 3, 9, -7, -5, -8, 1, 11, -9, -4])\n",
        "SetSize     = 5\n",
        "ResultList  = set()    # Store Result List i.e. list of sets whose sum is zero\n",
        "Iterations  = 1000   # Number of Inerations\n",
        "\n",
        "\n",
        "#-------------------------------------------------------------\n",
        "# Step3: Start Program\n",
        "#-------------------------------------------------------------\n",
        "\n",
        "# Loop till number of Iterations\n",
        "for i in range(Iterations):\n",
        "    # Select number of elements from Set\n",
        "    Chromosome = r.sample(Set,SetSize)\n",
        "    Chromosome.sort()\n",
        "\n",
        "    # Sum the number of elements in the Chromosome\n",
        "    if sum(Chromosome) == 0:\n",
        "        ResultList.add(tuple(Chromosome))\n",
        "\n",
        "# Print all the sets whose sum is zero\n",
        "for r in ResultList:\n",
        "\tprint (r)\n",
        "\n",
        "# Print total sets\n",
        "print (\"\\nTotal Sets: \", len(ResultList))\n"
      ],
      "execution_count": 6,
      "outputs": [
        {
          "output_type": "stream",
          "name": "stdout",
          "text": [
            "(-6, -5, -2, 2, 11)\n",
            "(-5, -3, -2, 1, 9)\n",
            "(-9, -5, -3, 6, 11)\n",
            "(-7, -6, -3, 7, 9)\n",
            "(-7, -4, 1, 3, 7)\n",
            "(-8, -6, 1, 2, 11)\n",
            "(-12, -5, 2, 6, 9)\n",
            "(-8, -3, 1, 3, 7)\n",
            "(-9, -4, -3, 7, 9)\n",
            "(-7, -5, 1, 2, 9)\n",
            "(-8, -2, 1, 2, 7)\n",
            "(-8, -6, -4, 7, 11)\n",
            "(-8, -6, -3, 6, 11)\n",
            "(-12, -4, -2, 7, 11)\n",
            "(-8, -5, -4, 6, 11)\n",
            "(-9, -2, 2, 3, 6)\n",
            "(-8, -6, -2, 7, 9)\n",
            "(-8, -5, 1, 3, 9)\n",
            "(-5, -4, 1, 2, 6)\n",
            "(-6, -4, -2, 1, 11)\n",
            "(-12, -9, 1, 9, 11)\n",
            "(-9, -6, -5, 9, 11)\n",
            "(-6, -5, -4, 6, 9)\n",
            "(-12, -2, 2, 3, 9)\n",
            "(-9, -5, 1, 6, 7)\n",
            "(-9, -7, -4, 9, 11)\n",
            "\n",
            "Total Sets:  26\n"
          ]
        }
      ]
    },
    {
      "cell_type": "markdown",
      "metadata": {
        "id": "Kaevs6ROim18"
      },
      "source": [
        "---\n",
        "####**2. Problem Statement:**\n",
        "Find all the subsets from a set of numbers whose sum is zero.\n",
        "\n",
        "####**Constraint: Subset size must be 3 to 6 only**\n",
        "Set={-12, -3, -6, 7, 2, -2, 6, 3, 9, -7, -5, -8, 1, 11, -9, -4}\n",
        "\n",
        "---"
      ]
    },
    {
      "cell_type": "code",
      "metadata": {
        "colab": {
          "base_uri": "https://localhost:8080/"
        },
        "id": "XmPJbrOXim19",
        "outputId": "495cc7c4-e4c9-4946-ffd9-ef79fdcb3744"
      },
      "source": [
        "#-------------------------------------------------------------\n",
        "# Step 1: Library inclusion                             \n",
        "#-------------------------------------------------------------\n",
        "import random as r\n",
        "\n",
        "\n",
        "#-------------------------------------------------------------\n",
        "# Step 2: Parameter Setting\n",
        "#-------------------------------------------------------------\n",
        "Set         = set([-12, -3, -6, 7, 2, -2, 6, 3, 9, -7, -5, -8, 1, 11, -9, -4])\n",
        "SetLB       = 3\n",
        "SetUB       = 6\n",
        "ResultList  = set()    # Store Result List i.e. list of sets whose sum is zero\n",
        "Iterations  = 1000   # Number of Inerations\n",
        "\n",
        "\n",
        "#-------------------------------------------------------------\n",
        "# Step3: Start Program\n",
        "#-------------------------------------------------------------\n",
        "\n",
        "# Loop till number of Iterations\n",
        "for i in range(Iterations):\n",
        "    # Select set size randomly\n",
        "    SetSize = r.randint(SetLB,SetUB)\n",
        "\t\n",
        "    # Select number of elements from Set\n",
        "    Chromosome = r.sample(Set,SetSize)\n",
        "    Chromosome.sort()\n",
        "\n",
        "    # Sum the number of elements in the Chromosome\n",
        "    if sum(Chromosome) == 0:\n",
        "        ResultList.add(tuple(Chromosome))\n",
        "\n",
        "# Print all the sets whose sum is zero\n",
        "for r in ResultList:\n",
        "\tprint (r)\n",
        "\n",
        "# Print total sets\n",
        "print (\"\\nTotal Sets: \", len(ResultList))\n"
      ],
      "execution_count": 7,
      "outputs": [
        {
          "output_type": "stream",
          "name": "stdout",
          "text": [
            "(-4, -2, 6)\n",
            "(-8, -7, -6, 1, 9, 11)\n",
            "(-8, -6, 1, 6, 7)\n",
            "(-9, -3, -2, 1, 2, 11)\n",
            "(-7, -2, 9)\n",
            "(-9, -6, 1, 2, 3, 9)\n",
            "(-7, -4, -3, 3, 11)\n",
            "(-12, -5, 2, 6, 9)\n",
            "(-5, -4, 2, 7)\n",
            "(-12, -6, 3, 6, 9)\n",
            "(-12, -8, 3, 6, 11)\n",
            "(-12, -8, 2, 3, 6, 9)\n",
            "(-5, -4, -2, 2, 9)\n",
            "(-4, -3, -2, 9)\n",
            "(-8, -3, 2, 9)\n",
            "(-6, -5, 2, 9)\n",
            "(-9, -8, 2, 6, 9)\n",
            "(-8, 1, 7)\n",
            "(-8, -5, 6, 7)\n",
            "(-7, -3, 1, 9)\n",
            "(-4, -3, 7)\n",
            "(-9, -4, 1, 2, 3, 7)\n",
            "(-7, -6, 1, 2, 3, 7)\n",
            "(-3, 1, 2)\n",
            "(-12, -5, 6, 11)\n",
            "(-12, 1, 11)\n",
            "(-8, -6, 3, 11)\n",
            "(-9, -5, 1, 2, 11)\n",
            "\n",
            "Total Sets:  28\n"
          ]
        }
      ]
    }
  ]
}